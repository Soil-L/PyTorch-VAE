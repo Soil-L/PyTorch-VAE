{
 "cells": [
  {
   "cell_type": "code",
   "execution_count": 268,
   "metadata": {},
   "outputs": [],
   "source": [
    "import torch\n",
    "from pytorch_lightning import Trainer\n",
    "from models.vanilla_vae import VanillaVAE  # Adjust the import path as necessary\n",
    "import numpy as np"
   ]
  },
  {
   "cell_type": "code",
   "execution_count": 269,
   "metadata": {},
   "outputs": [
    {
     "data": {
      "image/png": "[encoded data removed]",
      "text/plain": [
       "<Figure size 1500x500 with 3 Axes>"
      ]
     },
     "metadata": {},
     "output_type": "display_data"
    }
   ],
   "source": [
    "\n",
    "\n",
    "# Define the model parameters (these should match the parameters used during training)\n",
    "in_channels = 3  # Example: 3 for RGB images\n",
    "latent_dim = 128  # Example: latent dimension size\n",
    "\n",
    "# Define the path to the checkpoint\n",
    "checkpoint_path = 'checkpoint_ssh/version_11/checkpoints/last.ckpt'  # Replace with the actual path to your checkpoint file\n",
    "checkpoint = torch.load(checkpoint_path)\n",
    "state_dict = checkpoint['state_dict']\n",
    "new_state_dict = {}\n",
    "for k, v in state_dict.items():\n",
    "    if k.startswith('model.'):\n",
    "        new_state_dict[k[6:]] = v  # Remove 'model.' prefix\n",
    "    else:\n",
    "        new_state_dict[k] = v\n",
    "model = VanillaVAE(in_channels=in_channels, latent_dim=latent_dim)\n",
    "\n",
    "# Load the model from the checkpoint\n",
    "model.load_state_dict(new_state_dict)\n",
    "\n",
    "# Set the model to evaluation mode\n",
    "model.eval()\n",
    "\n",
    "# Move the model to the appropriate device\n",
    "device = torch.device('cuda' if torch.cuda.is_available() else 'cpu')\n",
    "model.to(device)\n",
    "\n",
    "# img = model.sample(num_samples=1,current_device=device)  # Call the sample method to generate new images\n",
    "\n",
    "step = 0.5\n",
    "z = torch.randn(1,model.latent_dim)\n",
    "z1 = z+step\n",
    "z2 = z-step\n",
    "z = z.to(device)\n",
    "z1 = z1.to(device)\n",
    "z2 = z2.to(device)\n",
    "samples = model.decode(z)\n",
    "samples1 = model.decode(z1)\n",
    "samples2 = model.decode(z2)\n",
    "\n",
    "\n",
    "\n",
    "\n",
    "import matplotlib.pyplot as plt\n",
    "\n",
    "# Convert the tensors to numpy arrays and transpose the dimensions to (H, W, C)\n",
    "samples_np = samples.cpu().detach().numpy().squeeze().transpose(1, 2, 0)\n",
    "samples1_np = samples1.cpu().detach().numpy().squeeze().transpose(1, 2, 0)\n",
    "samples2_np = samples2.cpu().detach().numpy().squeeze().transpose(1, 2, 0)\n",
    "\n",
    "# Clip the values to be in the range [0, 1]\n",
    "samples_np = np.clip(samples_np, 0, 1)\n",
    "samples1_np = np.clip(samples1_np, 0, 1)\n",
    "samples2_np = np.clip(samples2_np, 0, 1)\n",
    "\n",
    "# Plot the images\n",
    "fig, axs = plt.subplots(1, 3, figsize=(15, 5))\n",
    "\n",
    "\n",
    "axs[0].imshow(samples2_np)\n",
    "axs[0].set_title('Sample - 0.01')\n",
    "axs[0].axis('off')\n",
    "\n",
    "axs[1].imshow(samples_np)\n",
    "axs[1].set_title('Sample')\n",
    "axs[1].axis('off')\n",
    "\n",
    "axs[2].imshow(samples1_np)\n",
    "axs[2].set_title('Sample + 0.01')\n",
    "axs[2].axis('off')\n",
    "\n",
    "\n",
    "plt.show()"
   ]
  },
  {
   "cell_type": "code",
   "execution_count": 270,
   "metadata": {},
   "outputs": [
    {
     "name": "stdout",
     "output_type": "stream",
     "text": [
      "tensor([[[[0.9683, 0.9454, 0.9468,  ..., 0.9489, 0.9436, 0.9654],\n",
      "          [0.9456, 0.9489, 0.9739,  ..., 0.9725, 0.9497, 0.9460],\n",
      "          [0.9512, 0.9728, 0.9989,  ..., 0.9990, 0.9727, 0.9474],\n",
      "          ...,\n",
      "          [0.9479, 0.9708, 0.9987,  ..., 0.9995, 0.9703, 0.9498],\n",
      "          [0.9432, 0.9502, 0.9737,  ..., 0.9726, 0.9478, 0.9446],\n",
      "          [0.9662, 0.9455, 0.9478,  ..., 0.9496, 0.9451, 0.9659]],\n",
      "\n",
      "         [[0.9650, 0.9449, 0.9469,  ..., 0.9478, 0.9457, 0.9655],\n",
      "          [0.9437, 0.9484, 0.9728,  ..., 0.9733, 0.9490, 0.9455],\n",
      "          [0.9486, 0.9712, 0.9996,  ..., 0.9987, 0.9740, 0.9491],\n",
      "          ...,\n",
      "          [0.9482, 0.9707, 0.9985,  ..., 0.9994, 0.9727, 0.9490],\n",
      "          [0.9436, 0.9488, 0.9741,  ..., 0.9735, 0.9486, 0.9477],\n",
      "          [0.9675, 0.9447, 0.9489,  ..., 0.9493, 0.9449, 0.9682]],\n",
      "\n",
      "         [[0.9719, 0.9437, 0.9483,  ..., 0.9493, 0.9453, 0.9721],\n",
      "          [0.9464, 0.9470, 0.9729,  ..., 0.9738, 0.9497, 0.9441],\n",
      "          [0.9504, 0.9734, 0.9989,  ..., 0.9992, 0.9732, 0.9485],\n",
      "          ...,\n",
      "          [0.9485, 0.9722, 0.9987,  ..., 0.9996, 0.9703, 0.9506],\n",
      "          [0.9443, 0.9505, 0.9730,  ..., 0.9725, 0.9491, 0.9451],\n",
      "          [0.9706, 0.9438, 0.9492,  ..., 0.9498, 0.9446, 0.9695]]]],\n",
      "       device='cuda:0', grad_fn=<TanhBackward0>)\n"
     ]
    }
   ],
   "source": [
    "samples = model.sample(1, current_device=device)\n",
    "print(samples)"
   ]
  }
 ],
 "metadata": {
  "kernelspec": {
   "display_name": ".venv",
   "language": "python",
   "name": "python3"
  },
  "language_info": {
   "codemirror_mode": {
    "name": "ipython",
    "version": 3
   },
   "file_extension": ".py",
   "mimetype": "text/x-python",
   "name": "python",
   "nbconvert_exporter": "python",
   "pygments_lexer": "ipython3",
   "version": "3.10.12"
  }
 },
 "nbformat": 4,
 "nbformat_minor": 2
}
