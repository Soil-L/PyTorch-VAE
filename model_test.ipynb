{
 "cells": [
  {
   "cell_type": "code",
   "execution_count": 4,
   "metadata": {},
   "outputs": [],
   "source": [
    "import torch\n",
    "from pytorch_lightning import Trainer\n",
    "from models.vanilla_vae import VanillaVAE  # Adjust the import path as necessary\n",
    "from dataset import VAEDataset  # Adjust the import path as necessary\n",
    "from torch.utils.data import DataLoader\n",
    "import numpy as np"
   ]
  },
  {
   "cell_type": "code",
   "execution_count": 18,
   "metadata": {},
   "outputs": [
    {
     "data": {
      "image/png": "[encoded data removed]",
      "text/plain": [
       "<Figure size 640x480 with 1 Axes>"
      ]
     },
     "metadata": {},
     "output_type": "display_data"
    }
   ],
   "source": [
    "\n",
    "\n",
    "# Define the model parameters (these should match the parameters used during training)\n",
    "in_channels = 3  # Example: 3 for RGB images\n",
    "latent_dim = 128  # Example: latent dimension size\n",
    "\n",
    "# Define the path to the checkpoint\n",
    "checkpoint_path = 'logs/VanillaVAE/version_11/checkpoints/epoch=1-step=5088.ckpt'  # Replace with the actual path to your checkpoint file\n",
    "checkpoint = torch.load(checkpoint_path)\n",
    "state_dict = checkpoint['state_dict']\n",
    "new_state_dict = {}\n",
    "for k, v in state_dict.items():\n",
    "    if k.startswith('model.'):\n",
    "        new_state_dict[k[6:]] = v  # Remove 'model.' prefix\n",
    "    else:\n",
    "        new_state_dict[k] = v\n",
    "model = VanillaVAE(in_channels=in_channels, latent_dim=latent_dim)\n",
    "\n",
    "# Load the model from the checkpoint\n",
    "model.load_state_dict(new_state_dict)\n",
    "\n",
    "# Set the model to evaluation mode\n",
    "model.eval()\n",
    "\n",
    "# Move the model to the appropriate device\n",
    "device = torch.device('cuda' if torch.cuda.is_available() else 'cpu')\n",
    "model.to(device)\n",
    "\n",
    "img = model.sample(num_samples=1,current_device=device)  # Call the sample method to generate new images\n",
    "\n",
    "import matplotlib.pyplot as plt\n",
    "\n",
    "# Convert the tensor to a numpy array and transpose the dimensions to (H, W, C)\n",
    "img_np = img.cpu().detach().numpy().squeeze()\n",
    "img_np = img_np.transpose(1, 2, 0)\n",
    "\n",
    "# Clip the values to be in the range [0, 1]\n",
    "img_np = np.clip(img_np, 0, 1)\n",
    "\n",
    "# Display the image\n",
    "plt.imshow(img_np)\n",
    "plt.axis('off')  # Turn off axis\n",
    "plt.show()"
   ]
  },
  {
   "cell_type": "code",
   "execution_count": 6,
   "metadata": {},
   "outputs": [
    {
     "name": "stdout",
     "output_type": "stream",
     "text": [
      "tensor([[[[0.1006, 0.0839, 0.0834,  ..., 0.0790, 0.0829, 0.0964],\n",
      "          [0.0838, 0.0617, 0.0574,  ..., 0.0498, 0.0375, 0.0432],\n",
      "          [0.0755, 0.0579, 0.0581,  ..., 0.0448, 0.0413, 0.0511],\n",
      "          ...,\n",
      "          [0.0753, 0.0558, 0.0526,  ..., 0.3183, 0.2997, 0.2917],\n",
      "          [0.0931, 0.0438, 0.0473,  ..., 0.3245, 0.3233, 0.3223],\n",
      "          [0.1093, 0.0639, 0.0587,  ..., 0.3487, 0.3390, 0.3209]],\n",
      "\n",
      "         [[0.0808, 0.0681, 0.0714,  ..., 0.0617, 0.0677, 0.0731],\n",
      "          [0.0673, 0.0543, 0.0502,  ..., 0.0435, 0.0368, 0.0385],\n",
      "          [0.0568, 0.0529, 0.0501,  ..., 0.0444, 0.0400, 0.0386],\n",
      "          ...,\n",
      "          [0.0621, 0.0526, 0.0491,  ..., 0.2862, 0.2643, 0.2590],\n",
      "          [0.0660, 0.0384, 0.0374,  ..., 0.2960, 0.2856, 0.2841],\n",
      "          [0.0982, 0.0492, 0.0449,  ..., 0.3154, 0.2984, 0.2851]],\n",
      "\n",
      "         [[0.0667, 0.0630, 0.0591,  ..., 0.0599, 0.0677, 0.0731],\n",
      "          [0.0580, 0.0469, 0.0429,  ..., 0.0407, 0.0366, 0.0388],\n",
      "          [0.0458, 0.0452, 0.0416,  ..., 0.0421, 0.0360, 0.0339],\n",
      "          ...,\n",
      "          [0.0509, 0.0418, 0.0388,  ..., 0.2662, 0.2444, 0.2366],\n",
      "          [0.0561, 0.0353, 0.0389,  ..., 0.2824, 0.2635, 0.2563],\n",
      "          [0.0824, 0.0463, 0.0438,  ..., 0.2984, 0.2692, 0.2611]]]],\n",
      "       device='cuda:0', grad_fn=<TanhBackward0>)\n"
     ]
    }
   ],
   "source": [
    "samples = model.sample(1, current_device=device)\n",
    "print(samples)"
   ]
  }
 ],
 "metadata": {
  "kernelspec": {
   "display_name": ".venv",
   "language": "python",
   "name": "python3"
  },
  "language_info": {
   "codemirror_mode": {
    "name": "ipython",
    "version": 3
   },
   "file_extension": ".py",
   "mimetype": "text/x-python",
   "name": "python",
   "nbconvert_exporter": "python",
   "pygments_lexer": "ipython3",
   "version": "3.10.12"
  }
 },
 "nbformat": 4,
 "nbformat_minor": 2
}
